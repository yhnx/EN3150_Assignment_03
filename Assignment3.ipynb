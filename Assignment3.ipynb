{
  "nbformat": 4,
  "nbformat_minor": 0,
  "metadata": {
    "colab": {
      "provenance": [],
      "include_colab_link": true
    },
    "kernelspec": {
      "name": "python3",
      "display_name": "Python 3"
    },
    "language_info": {
      "name": "python"
    }
  },
  "cells": [
    {
      "cell_type": "markdown",
      "metadata": {
        "id": "view-in-github",
        "colab_type": "text"
      },
      "source": [
        "<a href=\"https://colab.research.google.com/github/yhnx/EN3150_Assignment_03/blob/sineth_training/Assignment3.ipynb\" target=\"_parent\"><img src=\"https://colab.research.google.com/assets/colab-badge.svg\" alt=\"Open In Colab\"/></a>"
      ]
    },
    {
      "cell_type": "code",
      "execution_count": null,
      "metadata": {
        "id": "6cIb-bFwTjZA"
      },
      "outputs": [],
      "source": [
        "import torch\n",
        "import torch.nn as nn\n",
        "import torch.optim as optim\n",
        "import torch.nn.functional as F\n",
        "from torchvision import datasets, transforms\n",
        "from torch.utils.data import DataLoader, random_split"
      ]
    },
    {
      "cell_type": "code",
      "source": [
        "# =====================================================\n",
        "# 3. Defining the CNN initally on an arbitary basis!!!\n",
        "# ====================================================\n",
        "class WasteCNN(nn.Module):\n",
        "    def __init__(self, num_classes):\n",
        "        super(WasteCNN, self).__init__()\n",
        "\n",
        "        # Conv1: 3x3 kernel\n",
        "        self.conv1 = nn.Conv2d(3, 16, kernel_size=3, padding=1)\n",
        "        self.pool1 = nn.MaxPool2d(2, 2)\n",
        "\n",
        "        # Conv2: 3x3 kernel with stride\n",
        "        self.conv2 = nn.Conv2d(16, 32, kernel_size=3, stride=2, padding=1)\n",
        "\n",
        "        # Conv3: 5x5 kernel\n",
        "        self.conv3 = nn.Conv2d(32, 64, kernel_size=5, padding=2)\n",
        "        self.pool2 = nn.MaxPool2d(2, 2)\n",
        "\n",
        "        # Fully connected\n",
        "        self.fc1 = nn.Linear(64 * 16 * 16, 256)  # Adjust based on input image size\n",
        "        self.fc2 = nn.Linear(256, num_classes)\n",
        "\n",
        "    def forward(self, x):\n",
        "        x = F.relu(self.conv1(x))\n",
        "        x = self.pool1(x)\n",
        "\n",
        "        x = F.relu(self.conv2(x))\n",
        "        x = F.relu(self.conv3(x))\n",
        "        x = self.pool2(x)\n",
        "\n",
        "        x = x.view(x.size(0), -1)  # flatten\n",
        "        x = F.relu(self.fc1(x))\n",
        "        x = self.fc2(x)\n",
        "\n",
        "        return F.log_softmax(x, dim=1)"
      ],
      "metadata": {
        "id": "ADHkuO6gVF2o"
      },
      "execution_count": null,
      "outputs": []
    },
    {
      "cell_type": "code",
      "source": [
        "import matplotlib.pyplot as plt\n",
        "from sklearn.metrics import confusion_matrix, precision_recall_fscore_support\n",
        "import numpy as np\n",
        "EPOCHS = 80\n",
        "LEARNING_RATE = 0.001\n",
        "DEVICE = 'cuda' if torch.cuda.is_available() else 'cpu'\n",
        "print(f\"Using device: {DEVICE}\")"
      ],
      "metadata": {
        "id": "7Tco7k2TZFV5"
      },
      "execution_count": null,
      "outputs": []
    },
    {
      "cell_type": "code",
      "source": [
        "# ==== 4. Modular Training Function ====\n",
        "def train_model(model, train_loader, val_loader, criterion, optimizer, num_epochs=100, device='gpu'):\n",
        "    train_losses, val_losses, val_accs = [], [], []\n",
        "\n",
        "    for epoch in range(num_epochs):\n",
        "        # ---- Training ----\n",
        "        model.train()\n",
        "        running_loss = 0.0\n",
        "        for images, labels in train_loader:\n",
        "            images, labels = images.to(device), labels.to(device)\n",
        "            optimizer.zero_grad()\n",
        "            outputs = model(images)\n",
        "            loss = criterion(outputs, labels)\n",
        "            loss.backward()\n",
        "            optimizer.step()\n",
        "            running_loss += loss.item()\n",
        "\n",
        "        avg_train_loss = running_loss / len(train_loader)\n",
        "        train_losses.append(avg_train_loss)\n",
        "\n",
        "        # ---- Validation ----\n",
        "        model.eval()\n",
        "        val_loss, correct, total = 0.0, 0, 0\n",
        "        with torch.no_grad():\n",
        "            for images, labels in val_loader:\n",
        "                images, labels = images.to(device), labels.to(device)\n",
        "                outputs = model(images)\n",
        "                loss = criterion(outputs, labels)\n",
        "                val_loss += loss.item()\n",
        "\n",
        "                _, predicted = torch.max(outputs.data, 1)\n",
        "                total += labels.size(0)\n",
        "                correct += (predicted == labels).sum().item()\n",
        "\n",
        "        avg_val_loss = val_loss / len(val_loader)\n",
        "        val_losses.append(avg_val_loss)\n",
        "        val_acc = 100 * correct / total\n",
        "        val_accs.append(val_acc)\n",
        "\n",
        "        print(f\"Epoch [{epoch+1}/{num_epochs}] \"\n",
        "              f\"| Train Loss: {avg_train_loss:.4f} \"\n",
        "              f\"| Val Loss: {avg_val_loss:.4f} \"\n",
        "              f\"| Val Acc: {val_acc:.2f}%\")\n",
        "\n",
        "    # ---- Return metrics ----\n",
        "    return train_losses, val_losses, val_accs\n"
      ],
      "metadata": {
        "id": "hBembJB8WZTb"
      },
      "execution_count": null,
      "outputs": []
    },
    {
      "cell_type": "code",
      "source": [
        "# ==== 5. Evaluation Function ====\n",
        "def evaluate_model(model, test_loader, device='cpu'):\n",
        "    model.eval()\n",
        "    correct, total = 0, 0\n",
        "    y_true, y_pred = [], []\n",
        "\n",
        "    with torch.no_grad():\n",
        "        for images, labels in test_loader:\n",
        "            images, labels = images.to(device), labels.to(device)\n",
        "            outputs = model(images)\n",
        "            _, predicted = torch.max(outputs.data, 1)\n",
        "            total += labels.size(0)\n",
        "            correct += (predicted == labels).sum().item()\n",
        "            y_true.extend(labels.cpu().numpy())\n",
        "            y_pred.extend(predicted.cpu().numpy())\n",
        "\n",
        "    acc = 100 * correct / total\n",
        "    precision, recall, f1, _ = precision_recall_fscore_support(y_true, y_pred, average='macro')\n",
        "    cm = confusion_matrix(y_true, y_pred)\n",
        "\n",
        "    print(f\"\\nTest Accuracy: {acc:.2f}%\")\n",
        "    print(f\"Precision: {precision:.4f}, Recall: {recall:.4f}, F1: {f1:.4f}\")\n",
        "    print(\"Confusion Matrix:\\n\", cm)\n",
        "\n",
        "    return acc, precision, recall, f1, cm\n"
      ],
      "metadata": {
        "id": "jsXBeazSwYk3"
      },
      "execution_count": null,
      "outputs": []
    },
    {
      "cell_type": "code",
      "source": [
        "# ==== 6. Plotting Function ====\n",
        "def plot_loss_curves(train_losses, val_losses, title=\"Training and Validation Loss\"):\n",
        "    plt.plot(train_losses, label='Training Loss')\n",
        "    plt.plot(val_losses, label='Validation Loss')\n",
        "    plt.xlabel('Epoch')\n",
        "    plt.ylabel('Loss')\n",
        "    plt.legend()\n",
        "    plt.title(title)\n",
        "    plt.show()"
      ],
      "metadata": {
        "id": "k2vMKJZywfmH"
      },
      "execution_count": null,
      "outputs": []
    },
    {
      "cell_type": "code",
      "source": [
        "# ==== 7. Running Experiments ====\n",
        "num_classes = len(dataset.classes)\n",
        "criterion = nn.CrossEntropyLoss()\n",
        "\n",
        "# Different optimizers to compare\n",
        "optimizers = {\n",
        "    \"Adam\": optim.Adam,\n",
        "    \"SGD\": optim.SGD,\n",
        "    \"SGD+Momentum\": lambda params, lr: optim.SGD(params, lr=lr, momentum=0.9)\n",
        "}\n",
        "\n",
        "results = {}\n",
        "\n",
        "for opt_name, opt_fn in optimizers.items():\n",
        "    print(f\"\\n===== Training with {opt_name} Optimizer =====\")\n",
        "    model = CustomCNN(num_classes=num_classes).to(DEVICE)\n",
        "    optimizer = opt_fn(model.parameters(), lr=LEARNING_RATE)\n",
        "\n",
        "    train_losses, val_losses, val_accs = train_model(\n",
        "        model, train_loader, val_loader, criterion, optimizer,\n",
        "        num_epochs=EPOCHS, device=DEVICE\n",
        "    )\n",
        "\n",
        "    test_metrics = evaluate_model(model, test_loader, device=DEVICE)\n",
        "\n",
        "    results[opt_name] = {\n",
        "        \"train_losses\": train_losses,\n",
        "        \"val_losses\": val_losses,\n",
        "        \"val_accs\": val_accs,\n",
        "        \"test_metrics\": test_metrics\n",
        "    }\n",
        "\n",
        "    plot_loss_curves(train_losses, val_losses, title=f\"Loss Curves - {opt_name}\")"
      ],
      "metadata": {
        "id": "X7LBec8Ay-lm"
      },
      "execution_count": null,
      "outputs": []
    }
  ]
}