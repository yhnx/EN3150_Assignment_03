{
  "nbformat": 4,
  "nbformat_minor": 0,
  "metadata": {
    "colab": {
      "provenance": [],
      "gpuType": "T4",
      "mount_file_id": "https://github.com/yhnx/EN3150_Assignment_03/blob/main/Assignment3.ipynb",
      "authorship_tag": "ABX9TyNQcYnenY+lSNmrzsTH8Zu+",
      "include_colab_link": true
    },
    "kernelspec": {
      "name": "python3",
      "display_name": "Python 3"
    },
    "language_info": {
      "name": "python"
    },
    "accelerator": "GPU"
  },
  "cells": [
    {
      "cell_type": "markdown",
      "metadata": {
        "id": "view-in-github",
        "colab_type": "text"
      },
      "source": [
        "<a href=\"https://colab.research.google.com/github/yhnx/EN3150_Assignment_03/blob/main/Assignment3.ipynb\" target=\"_parent\"><img src=\"https://colab.research.google.com/assets/colab-badge.svg\" alt=\"Open In Colab\"/></a>"
      ]
    },
    {
      "cell_type": "code",
      "execution_count": 1,
      "metadata": {
        "id": "6cIb-bFwTjZA"
      },
      "outputs": [],
      "source": [
        "import torch\n",
        "import torch.nn as nn\n",
        "import torch.optim as optim\n",
        "import torch.nn.functional as F\n",
        "from torchvision import datasets, transforms\n",
        "from torch.utils.data import DataLoader, random_split"
      ]
    },
    {
      "cell_type": "code",
      "source": [
        "from google.colab import drive\n",
        "drive.mount('/content/drive')"
      ],
      "metadata": {
        "id": "lsPY2oK2Vnsp",
        "outputId": "5bf6d564-19a2-4047-aadc-1124e1d8e86a",
        "colab": {
          "base_uri": "https://localhost:8080/"
        }
      },
      "execution_count": 2,
      "outputs": [
        {
          "output_type": "stream",
          "name": "stdout",
          "text": [
            "Drive already mounted at /content/drive; to attempt to forcibly remount, call drive.mount(\"/content/drive\", force_remount=True).\n"
          ]
        }
      ]
    },
    {
      "cell_type": "code",
      "source": [
        " # Check if any GPU is available\n",
        " device = torch.device(\"cuda\" if torch.cuda.is_available() else \"cpu\")\n",
        " # If a CUDA device is available, use the first available GPU\n",
        " if torch.cuda.is_available():\n",
        "  device = torch.device(\"cuda:0\")  # Using the first available GPU at index 0\n",
        " else:\n",
        "  device = torch.device(\"cpu\")\n",
        " print(f\"Using device: {device}\")"
      ],
      "metadata": {
        "id": "n62E2n3tW55j",
        "outputId": "fa8d5710-45a0-4b3c-fb4d-de4cfa742cae",
        "colab": {
          "base_uri": "https://localhost:8080/"
        }
      },
      "execution_count": 3,
      "outputs": [
        {
          "output_type": "stream",
          "name": "stdout",
          "text": [
            "Using device: cuda:0\n"
          ]
        }
      ]
    },
    {
      "cell_type": "code",
      "source": [
        "#Loading the dataset from drive\n",
        "dataset_path = '/content/drive/MyDrive/waste_data'\n",
        "\n"
      ],
      "metadata": {
        "id": "zoJkZb5UWIxB"
      },
      "execution_count": 4,
      "outputs": []
    },
    {
      "cell_type": "code",
      "source": [
        "global IMAGE_SIZE, BATCH_SIZE, CHANNELS, NUM_CLASSES, EPOCH\n",
        "IMAGE_SIZE = 256\n",
        "BATCH_SIZE = 16\n",
        "CHANNELS = 3\n",
        "EPOCH = 80"
      ],
      "metadata": {
        "id": "wRbVgRGhXrJS"
      },
      "execution_count": null,
      "outputs": []
    },
    {
      "cell_type": "code",
      "source": [
        "# ======================\n",
        "# 3. Defining the CNN initally on an arbitary basis!!!\n",
        "# ======================\n",
        "class WasteCNN(nn.Module):\n",
        "    def __init__(self, num_classes):\n",
        "        super(WasteCNN, self).__init__()\n",
        "\n",
        "        # Conv1: 3x3 kernel\n",
        "        self.conv1 = nn.Conv2d(3, 16, kernel_size=3, padding=1)\n",
        "        self.pool1 = nn.MaxPool2d(2, 2)\n",
        "\n",
        "        # Conv2: 3x3 kernel with stride\n",
        "        self.conv2 = nn.Conv2d(16, 32, kernel_size=3, stride=2, padding=1)\n",
        "\n",
        "        # Conv3: 5x5 kernel\n",
        "        self.conv3 = nn.Conv2d(32, 64, kernel_size=5, padding=2)\n",
        "        self.pool2 = nn.MaxPool2d(2, 2)\n",
        "\n",
        "        # Fully connected\n",
        "        self.fc1 = nn.Linear(64 * 16 * 16, 256)  # Adjust based on input image size\n",
        "        self.fc2 = nn.Linear(256, num_classes)\n",
        "\n",
        "    def forward(self, x):\n",
        "        x = F.relu(self.conv1(x))\n",
        "        x = self.pool1(x)\n",
        "\n",
        "        x = F.relu(self.conv2(x))\n",
        "        x = F.relu(self.conv3(x))\n",
        "        x = self.pool2(x)\n",
        "\n",
        "        x = x.view(x.size(0), -1)  # flatten\n",
        "        x = F.relu(self.fc1(x))\n",
        "        x = self.fc2(x)\n",
        "\n",
        "        return F.log_softmax(x, dim=1)"
      ],
      "metadata": {
        "id": "ADHkuO6gVF2o"
      },
      "execution_count": 5,
      "outputs": []
    },
    {
      "cell_type": "code",
      "source": [],
      "metadata": {
        "id": "hBembJB8WZTb"
      },
      "execution_count": 5,
      "outputs": []
    }
  ]
}